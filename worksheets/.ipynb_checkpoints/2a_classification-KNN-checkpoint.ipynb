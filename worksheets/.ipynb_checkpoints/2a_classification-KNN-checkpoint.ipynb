{
 "cells": [
  {
   "cell_type": "markdown",
   "metadata": {},
   "source": [
    "# SML-17 Workshop #1\n",
    "## 1- The k nearest neighbour algorithm (kNN)"
   ]
  },
  {
   "cell_type": "code",
   "execution_count": null,
   "metadata": {},
   "outputs": [],
   "source": [
    "%pylab inline\n",
    "import numpy as np\n",
    "import matplotlib.pyplot as plt"
   ]
  },
  {
   "cell_type": "markdown",
   "metadata": {},
   "source": [
    "#### Training data"
   ]
  },
  {
   "cell_type": "markdown",
   "metadata": {},
   "source": [
    "Let's prepare the data which contains two classes, each is drawn from gaussians about two centres, as follows:"
   ]
  },
  {
   "cell_type": "code",
   "execution_count": null,
   "metadata": {
    "collapsed": true
   },
   "outputs": [],
   "source": [
    "x = 0.4 * np.random.randn(40, 2) # gaussian points 40 x 2\n",
    "x[0:10] += np.array([1, 0]) \n",
    "x[10:20] += np.array([0, 1]) \n",
    "x[20:30] += np.array([0, 0]) \n",
    "x[30:40] += np.array([1, 1]) \n",
    "t = np.hstack([-np.ones(20), np.ones(20)]) # target vector 1 x 40"
   ]
  },
  {
   "cell_type": "code",
   "execution_count": null,
   "metadata": {},
   "outputs": [],
   "source": [
    "plt.plot(x[t==-1,0], x[t==-1,1], 'b.')\n",
    "plt.plot(x[t==1,0], x[t==1,1], 'r.')\n",
    "print(x.shape, np.mean(x), np.var(x), np.min(x), np.max(x))\n",
    "print(t.shape, np.mean(t), np.var(t), np.min(t), np.max(t))"
   ]
  },
  {
   "cell_type": "markdown",
   "metadata": {},
   "source": [
    "#### K Nearest Neighbours"
   ]
  },
  {
   "cell_type": "markdown",
   "metadata": {},
   "source": [
    "An important classifier is the *k-nearest neighbour* classifier, which is probably the simplest approach both conceptually and in terms of implementation. It works by considered for each test point nearby points in the training set, and returns their majority label. The value of *k* selects how many neighbours to consider. Another important setting choice of the distance metric, used to measure how close each point is to other points.\n",
    "\n",
    "Let's start by defining a function *euclidean* to calculate the euclidean distance, $d(\\mathbf{x}, \\mathbf{z}) = \\sqrt{\\mathbf{x}^T \\mathbf{z}}$."
   ]
  },
  {
   "cell_type": "code",
   "execution_count": null,
   "metadata": {
    "collapsed": true
   },
   "outputs": [],
   "source": [
    "def euclidean(x, z):\n",
    "    d = x - z\n",
    "    if len(d.shape) > 1 and d.shape[1] > 1:\n",
    "        return np.sqrt(np.diag(np.dot(d, d.T)))\n",
    "    else:\n",
    "        return np.sqrt(np.dot(d, d))"
   ]
  },
  {
   "cell_type": "markdown",
   "metadata": {},
   "source": [
    "In the next five cells, we will trace the output of the euclidean distance with slight introduction about dealing with vectors using numpy module. Note: skip the n ext five cells if you are familiar with Python syntax."
   ]
  },
  {
   "cell_type": "code",
   "execution_count": null,
   "metadata": {},
   "outputs": [],
   "source": [
    "euclidean(np.array([0,0]), np.array([1,1]))"
   ]
  },
  {
   "cell_type": "code",
   "execution_count": null,
   "metadata": {},
   "outputs": [],
   "source": [
    "tmp = euclidean(np.array([[0,0],[1,0], [0.5,0.5]]), np.array([1,1]))\n",
    "print(tmp)"
   ]
  },
  {
   "cell_type": "code",
   "execution_count": null,
   "metadata": {},
   "outputs": [],
   "source": [
    "np.sort(tmp) # sorted vector "
   ]
  },
  {
   "cell_type": "code",
   "execution_count": null,
   "metadata": {},
   "outputs": [],
   "source": [
    "np.argsort(tmp) # indices of sorted vector"
   ]
  },
  {
   "cell_type": "code",
   "execution_count": null,
   "metadata": {},
   "outputs": [],
   "source": [
    "np.argsort(tmp)[:2]"
   ]
  },
  {
   "cell_type": "markdown",
   "metadata": {},
   "source": [
    "Next, define a function to find nearby training points for a given test point under the euclidean distance."
   ]
  },
  {
   "cell_type": "code",
   "execution_count": null,
   "metadata": {
    "collapsed": true
   },
   "outputs": [],
   "source": [
    "def neighbours(x, train_x, k):\n",
    "    dists = euclidean(train_x, x)\n",
    "    return np.argsort(dists)[:k]"
   ]
  },
  {
   "cell_type": "markdown",
   "metadata": {},
   "source": [
    "Now define the *k-NN* prediction algorithm, which processes each test point and finds the majority class of its neighbours in the training set."
   ]
  },
  {
   "cell_type": "code",
   "execution_count": null,
   "metadata": {
    "collapsed": true
   },
   "outputs": [],
   "source": [
    "def knn(test_x, train_x, train_t, k):\n",
    "    predict = np.zeros(test_x.shape[0]) # num of testing samples (i.e. # of rows)\n",
    "    for i in range(test_x.shape[0]):  \n",
    "        ns = neighbours(train_x, test_x[i], k)\n",
    "        predict[i] = np.sign(np.sum(train_t[ns])) # the test sample is assigned to the majority class of its neighbours \n",
    "    return predict"
   ]
  },
  {
   "cell_type": "code",
   "execution_count": null,
   "metadata": {},
   "outputs": [],
   "source": [
    "knn(x, x, t, 1)"
   ]
  },
  {
   "cell_type": "markdown",
   "metadata": {},
   "source": [
    "Evaluate the predictions on the training set (this is now a **really** bad idea, can you explain why?) and the test set. How does the choice of *k* affect the accuracy?"
   ]
  },
  {
   "cell_type": "markdown",
   "metadata": {},
   "source": [
    "Finally, plot the decision boundaries. How does the choice of k affect the boundary?"
   ]
  },
  {
   "cell_type": "code",
   "execution_count": null,
   "metadata": {},
   "outputs": [],
   "source": [
    "X1, X2 = np.meshgrid(np.arange(-0.7, 1.7, 0.025), np.arange(-0.7, 1.7, 0.025))\n",
    "X12 = np.column_stack([X1.flatten(), X2.flatten()])\n",
    "Y = knn(X12, x, t, 1)\n",
    "cs = plt.contour(X1, X2, Y.reshape(X1.shape), levels=[0]) \n",
    "plt.plot(x[t==-1,0], x[t==-1,1], 'o')\n",
    "plt.plot(x[t==1,0], x[t==1,1], 'o')"
   ]
  },
  {
   "cell_type": "code",
   "execution_count": null,
   "metadata": {
    "collapsed": true
   },
   "outputs": [],
   "source": []
  }
 ],
 "metadata": {
  "anaconda-cloud": {},
  "kernelspec": {
   "display_name": "Python 3",
   "language": "python",
   "name": "python3"
  },
  "language_info": {
   "codemirror_mode": {
    "name": "ipython",
    "version": 3
   },
   "file_extension": ".py",
   "mimetype": "text/x-python",
   "name": "python",
   "nbconvert_exporter": "python",
   "pygments_lexer": "ipython3",
   "version": "3.6.2"
  }
 },
 "nbformat": 4,
 "nbformat_minor": 1
}
