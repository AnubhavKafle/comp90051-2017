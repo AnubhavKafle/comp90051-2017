{
 "cells": [
  {
   "cell_type": "markdown",
   "metadata": {},
   "source": [
    "# SML-17 Workshop #1\n",
    "## 2- Evaluation of classifiers "
   ]
  },
  {
   "cell_type": "markdown",
   "metadata": {},
   "source": [
    "This week we'll be using the *SPAM base* dataset from the UCI machine learning dataset repository. This dataset comprises a few thousand emails that have been annotated as being spam or not, and the several features have been created from the email text (e.g., presence of certain important words and characters, too many CAPITALS etc.) Note that for many practical applications defining the features is one of the hardest and most important steps. Thankfully this has already been done for us, so we can deploy and evaluate our machine learning algorithms directly. \n",
    "\n",
    "Please see http://archive.ics.uci.edu/ml/datasets/Spambase for a full description of the dataset and feature definitions."
   ]
  },
  {
   "cell_type": "markdown",
   "metadata": {},
   "source": [
    "Please follow the instructions from the previous lab for importing numpy etc, e.g.,"
   ]
  },
  {
   "cell_type": "code",
   "execution_count": 1,
   "metadata": {},
   "outputs": [
    {
     "name": "stdout",
     "output_type": "stream",
     "text": [
      "Populating the interactive namespace from numpy and matplotlib\n"
     ]
    }
   ],
   "source": [
    "%pylab inline\n",
    "import numpy as np\n",
    "import matplotlib.pyplot as plt"
   ]
  },
  {
   "cell_type": "markdown",
   "metadata": {},
   "source": [
    "### Loading the SPAM data"
   ]
  },
  {
   "cell_type": "markdown",
   "metadata": {},
   "source": [
    "The first step is to load the data, which we'll download from\n",
    "http://archive.ics.uci.edu/ml/machine-learning-databases/spambase/spambase.data"
   ]
  },
  {
   "cell_type": "code",
   "execution_count": 2,
   "metadata": {},
   "outputs": [
    {
     "name": "stdout",
     "output_type": "stream",
     "text": [
      "Loaded (500L, 57L) data points, and (500L,) labels, -1.0 1.0\n"
     ]
    }
   ],
   "source": [
    "# download the datafile\n",
    "\n",
    "import sys \n",
    "if sys.version_info[0] >= 3:\n",
    "    from urllib.request import urlretrieve\n",
    "else:\n",
    "    from urllib import urlretrieve\n",
    "\n",
    "#url = \"https://staffwww.dcs.shef.ac.uk/people/T.Cohn/campus_only/mlai13/spambase.data.data\"\n",
    "url = \"http://archive.ics.uci.edu/ml/machine-learning-databases/spambase/spambase.data\"\n",
    "urlretrieve(url, 'spambase.data.data')\n",
    "\n",
    "\n",
    "# load the CSV file as an array\n",
    "Xandt = np.loadtxt('spambase.data.data', delimiter=',')\n",
    "# randomly shuffle the rows, so as to remove any order bias \n",
    "np.random.shuffle(Xandt)\n",
    "\n",
    "# the last column are the response labels (targets), 0 = not spam, 1 = spam\n",
    "# remap into -1 and +1 and take only the first 500 examples\n",
    "t = Xandt[:500,-1] * 2 - 1\n",
    "# and the remaining columns are the data\n",
    "X = Xandt[:500,:-1]\n",
    "\n",
    "print(\"Loaded\", X.shape, \"data points, and\", t.shape, \"labels,\",  t.min() , t.max())"
   ]
  },
  {
   "cell_type": "markdown",
   "metadata": {},
   "source": [
    "The data has many different types of features, operating on different ranges and with overall very different distributions. Therefore, it is important to standardise each feature. Also, assumptions about the distributions of the input features are central to proofs of the generalisation bounds of several machine learning algorithms.\n",
    "\n",
    "Inspect the minimum, maximum, mean and standard deviation for each column, using `np.mean` and `np.std`. Note that you'll need to supply an axis if you're just interested in columns, e.g., "
   ]
  },
  {
   "cell_type": "code",
   "execution_count": 3,
   "metadata": {},
   "outputs": [
    {
     "name": "stdout",
     "output_type": "stream",
     "text": [
      "[  1.01360000e-01   1.36720000e-01   2.58780000e-01   1.01220000e-01\n",
      "   2.71380000e-01   8.50800000e-02   9.43600000e-02   1.02060000e-01\n",
      "   7.98000000e-02   2.33380000e-01   6.08800000e-02   5.60740000e-01\n",
      "   9.12600000e-02   7.79200000e-02   4.06000000e-02   2.34780000e-01\n",
      "   1.39620000e-01   1.98140000e-01   1.64918000e+00   5.40600000e-02\n",
      "   7.14840000e-01   5.63600000e-02   8.12000000e-02   6.37200000e-02\n",
      "   6.26140000e-01   3.22080000e-01   8.04540000e-01   1.53740000e-01\n",
      "   9.08200000e-02   1.20900000e-01   7.59400000e-02   4.63000000e-02\n",
      "   1.55640000e-01   4.65800000e-02   1.05400000e-01   1.09480000e-01\n",
      "   1.39600000e-01   5.78000000e-03   7.61200000e-02   7.40600000e-02\n",
      "   3.86800000e-02   1.17540000e-01   4.87800000e-02   1.33720000e-01\n",
      "   2.54440000e-01   1.85460000e-01   5.20000000e-03   2.76800000e-02\n",
      "   3.33020000e-02   1.36358000e-01   1.50540000e-02   2.73084000e-01\n",
      "   5.05060000e-02   2.86420000e-02   3.93530600e+00   4.58960000e+01\n",
      "   3.48868000e+02]\n",
      "('Num of features : ', 57)\n"
     ]
    }
   ],
   "source": [
    "tmp = np.mean(X, 0)\n",
    "print(tmp)\n",
    "print('Num of features : ' , len(tmp))\n"
   ]
  },
  {
   "cell_type": "markdown",
   "metadata": {},
   "source": [
    "Note that the last three features have mean orders of magnitude greater than the other features. (Take a look at their definitions.) Thus, we will standardise all features to have mean 0 and standard deviation 1."
   ]
  },
  {
   "cell_type": "code",
   "execution_count": 4,
   "metadata": {
    "collapsed": true
   },
   "outputs": [],
   "source": [
    "X = (X - np.mean(X, 0)) / np.std(X, 0)"
   ]
  },
  {
   "cell_type": "markdown",
   "metadata": {},
   "source": [
    "Note that in previous labs we've plotted the data to get a feeling for how easily the data might be modelled, e.g., if it's linearly separable or requires polynomial basis functions etc. This technique is fine for data with 1 or 2 dimensions, but isn't so straight-forward for 57 dimensional data. (Note that dimensionality reduction methods, such as PCA, can be used to find the most important dimensions for viewing or exploiting in other learning algorithms.). "
   ]
  },
  {
   "cell_type": "markdown",
   "metadata": {},
   "source": [
    "### K-nearest neighbour classifier"
   ]
  },
  {
   "cell_type": "markdown",
   "metadata": {},
   "source": [
    "To mix things up, for this session we will use a k-NN classifier. This classifier is incredibly simple: for each test point find the closest few ($k$) points in the training sets and return the majority label from these points. We will compare the setting of $k$, to try and find the *best* classifier."
   ]
  },
  {
   "cell_type": "markdown",
   "metadata": {},
   "source": [
    "Let's start by defining a function *euclidean* to calculate the euclidean distance, $d(\\mathbf{x}, \\mathbf{z}) = \\sqrt{(\\mathbf{x} - \\mathbf{z})^T (\\mathbf{x} - \\mathbf{z})}$."
   ]
  },
  {
   "cell_type": "code",
   "execution_count": 5,
   "metadata": {
    "collapsed": true
   },
   "outputs": [],
   "source": [
    "def euclidean(x, z):\n",
    "    d = x - z\n",
    "    if len(d.shape) > 1 and d.shape[1] > 1:\n",
    "        return np.sqrt(np.diag(np.dot(d, d.T)))\n",
    "    else:\n",
    "        return np.sqrt(np.dot(d, d))"
   ]
  },
  {
   "cell_type": "markdown",
   "metadata": {},
   "source": [
    "Next, define a function to find nearby training points for a given test point under the euclidean distance. You may want to use `np.argsort` which returns the sort order (as an array indices) for an input array."
   ]
  },
  {
   "cell_type": "code",
   "execution_count": 6,
   "metadata": {
    "collapsed": true
   },
   "outputs": [],
   "source": [
    "def neighbours(x, train_x, k):\n",
    "    dists = euclidean(train_x, x)\n",
    "    return np.argsort(dists)[:k]"
   ]
  },
  {
   "cell_type": "markdown",
   "metadata": {},
   "source": [
    "Note that this returns the indices of the training points, which can be used to look up the label. Now define the *k-NN* prediction algorithm, which processes each test point and finds the majority class of its neighbours in the training set."
   ]
  },
  {
   "cell_type": "code",
   "execution_count": 7,
   "metadata": {
    "collapsed": true
   },
   "outputs": [],
   "source": [
    "def knn(test_x, train_x, train_t, k):\n",
    "    predict = np.zeros(test_x.shape[0])\n",
    "    for i in range(test_x.shape[0]):\n",
    "        ns = neighbours(train_x, test_x[i], k)\n",
    "        predict[i] = np.sign(np.sum(train_t[ns]))\n",
    "    return predict"
   ]
  },
  {
   "cell_type": "markdown",
   "metadata": {},
   "source": [
    "### Heldout evaluation"
   ]
  },
  {
   "cell_type": "markdown",
   "metadata": {},
   "source": [
    "We have a large dataset of 500 examples. If we were to use all of these for training, we would have nothing left with which to evaluate the *generalisation error*. Recall that models often *overfit* the training sample, and therefore their performance on this set is often misleading: we have no way of telling if this is due to modelling the true problem or just fitting noise and other idiosyncracies of the training sample."
   ]
  },
  {
   "cell_type": "markdown",
   "metadata": {},
   "source": [
    "To illustrate, compute the *training error* of the approach with a few different values of $k$, `[1,3,9,15,33,77]`. We'll later see if other evaluation methods lead to different conclusions."
   ]
  },
  {
   "cell_type": "code",
   "execution_count": 8,
   "metadata": {},
   "outputs": [
    {
     "name": "stdout",
     "output_type": "stream",
     "text": [
      "1-nn 0.0\n",
      "3-nn 0.09\n",
      "9-nn 0.114\n",
      "15-nn 0.152\n",
      "33-nn 0.17\n",
      "77-nn 0.236\n"
     ]
    }
   ],
   "source": [
    "for k in [1,3,9,15,33,77]:\n",
    "    print '%d-nn' % k, np.sum(knn(X, X, t, k) != t) / float(X.shape[0])"
   ]
  },
  {
   "cell_type": "markdown",
   "metadata": {},
   "source": [
    "What is going on? Which value of k is best?"
   ]
  },
  {
   "cell_type": "markdown",
   "metadata": {},
   "source": [
    "#### Attempt 1: fixed validation set"
   ]
  },
  {
   "cell_type": "markdown",
   "metadata": {},
   "source": [
    "Now we'll try evaluating on *heldout validation* data. This has been excluded from training, so the model cannot *overfit*. Instead this serves as a fresh data sample, which reflects the intended usage of the classifier in a live scenario (i.e., processing new emails as they arrive in your inbox).\n",
    "\n",
    "One of the easiest methods is to slice the data into two parts. We'll half for training and half for testing. Note that these numbers are fairly arbitrary, but we do want enough test data to get a reliable error estimate."
   ]
  },
  {
   "cell_type": "code",
   "execution_count": 9,
   "metadata": {},
   "outputs": [
    {
     "name": "stdout",
     "output_type": "stream",
     "text": [
      "There are (250L, 57L) training samples, and (250L, 57L) heldout test samples\n"
     ]
    }
   ],
   "source": [
    "N = X.shape[0]\n",
    "cut = N/2\n",
    "Xtrain = X[:cut,:]\n",
    "ttrain = t[:cut]\n",
    "Xtest = X[cut:,:]\n",
    "ttest = t[cut:]\n",
    "print \"There are\", Xtrain.shape, \"training samples, and\", Xtest.shape, \"heldout test samples\""
   ]
  },
  {
   "cell_type": "code",
   "execution_count": 10,
   "metadata": {},
   "outputs": [
    {
     "name": "stdout",
     "output_type": "stream",
     "text": [
      "Test split: for class label 1:  91 and class label -1 159\n",
      "Train split: for class label 1:  101 and class label -1 149\n"
     ]
    }
   ],
   "source": [
    "print \"Test split: for class label 1: \", np.sum(ttest ==1), \"and class label -1\", np.sum(ttest ==-1)\n",
    "print \"Train split: for class label 1: \", np.sum(ttrain ==1), \"and class label -1\", np.sum(ttrain ==-1)"
   ]
  },
  {
   "cell_type": "markdown",
   "metadata": {},
   "source": [
    "Now your job is to apply $k$-NN on this data for the various values of $k$, and evaluate their training and heldout error."
   ]
  },
  {
   "cell_type": "code",
   "execution_count": 11,
   "metadata": {},
   "outputs": [
    {
     "name": "stdout",
     "output_type": "stream",
     "text": [
      "1-nn training error 0.0 heldout error 0.196\n",
      "3-nn training error 0.12 heldout error 0.148\n",
      "9-nn training error 0.172 heldout error 0.152\n",
      "15-nn training error 0.204 heldout error 0.184\n",
      "33-nn training error 0.232 heldout error 0.212\n",
      "77-nn training error 0.332 heldout error 0.312\n"
     ]
    }
   ],
   "source": [
    "# IMPLEMENT ME\n",
    "for k in [1,3,9,15,33,77]:\n",
    "    print '%d-nn' % k, \n",
    "    print 'training error', np.sum(knn(Xtrain, Xtrain, ttrain, k) != ttrain) / float(Xtrain.shape[0]),\n",
    "    print 'heldout error', np.sum(knn(Xtest, Xtrain, ttrain, k) != ttest) / float(Xtest.shape[0])"
   ]
  },
  {
   "cell_type": "markdown",
   "metadata": {},
   "source": [
    "Is the heldout error similar to the training error, or do you notice consistent differences?  Can you explain why? What classifier might you select now, and does this match your earlier choice?"
   ]
  },
  {
   "cell_type": "markdown",
   "metadata": {},
   "source": [
    "Good going. We now have a decent spam classifier, similar to the ones in Google and other email providers (which are trained on *much* more data). You could fairly easily take this approach and the feature definitions and plug this into your own email inbox to classify incoming mails.  Note that scaling this up to the full dataset would require a bit of engineering (or patience!), but otherwise would be straightforward."
   ]
  },
  {
   "cell_type": "markdown",
   "metadata": {},
   "source": [
    "#### Attempt 2: Leave-one-out cross validation"
   ]
  },
  {
   "cell_type": "markdown",
   "metadata": {},
   "source": [
    "Another validation method is *cross-validation*, which is particularly suitable when you have only a small amount of data. This technique divides the data into parts, called *folds*. Then each fold is used for evaluation, and the model is trained on all other folds. This is repeated, such that we have heldout predictions for the entire dataset.\n",
    "\n",
    "The leave-one-out method is the most extreme version of cross-validation, and defines each fold as a single data-point."
   ]
  },
  {
   "cell_type": "markdown",
   "metadata": {},
   "source": [
    "Implement k-NN to work using the leave-one-out method. This only requires a small change from the `knn()` method in order exclude the current point from consideration in the inner loop. Hint: start by taking the $k+1$ nearest neighbours, and then correct the result."
   ]
  },
  {
   "cell_type": "code",
   "execution_count": 12,
   "metadata": {
    "collapsed": true
   },
   "outputs": [],
   "source": [
    "def knn_LOO(x, t, k):\n",
    "    predict = np.zeros(x.shape[0])\n",
    "    for i in range(x.shape[0]):\n",
    "        ns = neighbours(x, x[i], k+1)\n",
    "        if i in ns:\n",
    "            predict[i] = np.sign(np.sum(t[ns]) - t[i])\n",
    "        else:\n",
    "            ns = ns[:k]\n",
    "            predict[i] = np.sign(np.sum(t[ns]))\n",
    "    return predict\n",
    "# Another Implementation by Yasmeen \n",
    "def knn_LOO1(x, t, k):\n",
    "    predict = np.zeros(x.shape[0])\n",
    "    for i in range(x.shape[0]):\n",
    "        xtrain = np.delete(x, (i), axis=0)\n",
    "        ttrain = np.delete(t, (i), axis=0)\n",
    "        xtest = x[i]\n",
    "        ttest = t[i]\n",
    "        ns = neighbours(xtrain, xtest, k)\n",
    "        #print xtrain.shape , ttrain.shape,xtest.shape, ttest, np.sign(np.sum(t[ns]))\n",
    "        predict[i] = np.sign(np.sum(ttrain[ns]))\n",
    "        \n",
    "    return predict"
   ]
  },
  {
   "cell_type": "markdown",
   "metadata": {},
   "source": [
    "Try this out for a few values of k, and compare their error rates. How do these values compare to your results from using a fixed validation set? Are they more reliable, and would you expect the cross-validation error to be higher or lower?"
   ]
  },
  {
   "cell_type": "code",
   "execution_count": 13,
   "metadata": {},
   "outputs": [
    {
     "name": "stdout",
     "output_type": "stream",
     "text": [
      "1-nn LOO error 0.178\n",
      "3-nn LOO error 0.148\n",
      "9-nn LOO error 0.144\n",
      "15-nn LOO error 0.18\n",
      "33-nn LOO error 0.178\n",
      "77-nn LOO error 0.242\n"
     ]
    }
   ],
   "source": [
    "for k in [1,3,9,15,33,77]:\n",
    "    print '%d-nn' % k, \n",
    "    print 'LOO error', np.sum(knn_LOO1(X, t, k) != t) / float(X.shape[0])"
   ]
  },
  {
   "cell_type": "code",
   "execution_count": 14,
   "metadata": {},
   "outputs": [
    {
     "name": "stdout",
     "output_type": "stream",
     "text": [
      "1-nn LOO error 0.178\n",
      "3-nn LOO error 0.148\n",
      "9-nn LOO error 0.144\n",
      "15-nn LOO error 0.18\n",
      "33-nn LOO error 0.178\n",
      "77-nn LOO error 0.242\n"
     ]
    }
   ],
   "source": [
    "for k in [1,3,9,15,33,77]:\n",
    "    print '%d-nn' % k, \n",
    "    print 'LOO error', np.sum(knn_LOO(X, t, k) != t) / float(X.shape[0])"
   ]
  },
  {
   "cell_type": "markdown",
   "metadata": {},
   "source": [
    "## Error types and ROC analysis"
   ]
  },
  {
   "cell_type": "markdown",
   "metadata": {},
   "source": [
    "Spam classification is an interesting test case. Consider the impact on an email user of various errors:\n",
    "\n",
    "1. misclassifying a spam email as good \n",
    "1. misclassifying a good email as spam \n",
    "\n",
    "We need to balance annoyance (1) with missing potentially important information (2). \n",
    "\n",
    "These two errors are referred to as Type I and Type II errors, and are treated uniformly when measuring accuracy (and 0/1 loss). In this case it is more informative to evaluate the outputs by counting each of the four categories: true positives (true spam which was classified as spam), false positives (good classified as spam), true negatives (good classified as good), and false negatives (spam classified as good)."
   ]
  },
  {
   "cell_type": "code",
   "execution_count": 15,
   "metadata": {},
   "outputs": [
    {
     "name": "stdout",
     "output_type": "stream",
     "text": [
      "true positives  135\n",
      "false positives 15\n",
      "true negatives  293\n",
      "false negatives 57\n"
     ]
    }
   ],
   "source": [
    "pred = knn_LOO(X, t, 9)\n",
    "print 'true positives ', np.sum(t[pred == 1] == 1)\n",
    "print 'false positives', np.sum(t[pred == 1] == -1)\n",
    "print 'true negatives ', np.sum(t[pred == -1] == -1)\n",
    "print 'false negatives', np.sum(t[pred == -1] == 1)"
   ]
  },
  {
   "cell_type": "markdown",
   "metadata": {},
   "source": [
    "This shows that the data are skewed, i.e. there are more negatives than positives. Are the numbers of the two types of error are closely balanced?"
   ]
  },
  {
   "cell_type": "markdown",
   "metadata": {},
   "source": [
    "The ROC curve gives a better view of the compromise between the two error types. This graph shows the relationship between the *false positive rate* and *true positive rate*. Each point on the curve represents a different classifier. In our case we can vary the value of k, recording the FPR and TPR at each point. Randomly guessing will give us a straight line in ROC space, and we seek to do better by being above and left (higher TPR for a given FPR; lower FPR for a given TPR). For a thorough description please read the wikipedia page on ROC analysis http://en.wikipedia.org/wiki/Receiver_operating_characteristic"
   ]
  },
  {
   "cell_type": "code",
   "execution_count": 17,
   "metadata": {},
   "outputs": [
    {
     "data": {
      "text/plain": [
       "<matplotlib.text.Text at 0x7d19b38>"
      ]
     },
     "execution_count": 17,
     "metadata": {},
     "output_type": "execute_result"
    },
    {
     "data": {
      "image/png": "[encoded data removed]",
      "text/plain": [
       "<matplotlib.figure.Figure at 0x7b941d0>"
      ]
     },
     "metadata": {},
     "output_type": "display_data"
    }
   ],
   "source": [
    "fprs = []\n",
    "tprs = []\n",
    "\n",
    "for k in [1,2,3,5,9,15,33,77]:\n",
    "    pred = knn_LOO(X, t, k)\n",
    "    \n",
    "    tp = np.sum(t[pred==1] == 1)\n",
    "    fp = np.sum(t[pred==1] == -1)\n",
    "    tn = np.sum(t[pred==-1] == -1)\n",
    "    fn = np.sum(t[pred==-1] == 1)\n",
    "    \n",
    "    # now compute the TPR and FPR\n",
    "    fpr = fp / float(fp + tn)\n",
    "    tpr = tp / float(tp + fn)\n",
    "    \n",
    "    \n",
    "    fprs.append(fpr)\n",
    "    tprs.append(tpr)\n",
    "\n",
    "plot(fprs, tprs, 'r*')\n",
    "xlabel('FPR')\n",
    "ylabel('TPR')"
   ]
  },
  {
   "cell_type": "markdown",
   "metadata": {},
   "source": [
    "Depending on our appetite for false positive errors, we can read off the corresponding accuracy for predictions (TPR) with respect to false negatives. Plotting the ROC curve for several classifiers can help us choose which is best while incorporating unbalanced loss functions."
   ]
  }
 ],
 "metadata": {
  "anaconda-cloud": {},
  "kernelspec": {
   "display_name": "Python 3",
   "language": "python",
   "name": "python3"
  },
  "language_info": {
   "codemirror_mode": {
    "name": "ipython",
    "version": 3
   },
   "file_extension": ".py",
   "mimetype": "text/x-python",
   "name": "python",
   "nbconvert_exporter": "python",
   "pygments_lexer": "ipython3",
   "version": "3.6.2"
  }
 },
 "nbformat": 4,
 "nbformat_minor": 1
}
